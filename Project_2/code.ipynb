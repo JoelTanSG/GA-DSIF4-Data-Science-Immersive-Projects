{
 "cells": [
  {
   "cell_type": "markdown",
   "id": "39c0c1e4",
   "metadata": {},
   "source": [
    "# Project 2 - Ames Housing Data and Kaggle Challenge\n",
    "![](./assets/images/Suburb_header_image.png)\n",
    "[Image Source](https://homeownershipmatters.realtor/issues/these-3-suburbs-are-leading-the-way-in-the-u-s-markets-suburban-boom/)"
   ]
  },
  {
   "cell_type": "markdown",
   "id": "409254cf",
   "metadata": {},
   "source": [
    "## Table of Content\n",
    "\n",
    "1. [Background](#Background)\n",
    "2. [Dataset](#Dataset)\n",
    "3. [Python Libraries Used](#Libraries)"
   ]
  },
  {
   "cell_type": "markdown",
   "id": "0a70c7b7",
   "metadata": {},
   "source": [
    "## Background\n",
    "\n",
    "\n",
    "Purpose of this project is to create a regression model based on the Ames Housing Dataset. This model will be used to predict the price of a house on sales.\n",
    "\n",
    "The Ames Housing Dataset is an exceptionally detailed and robust dataset with over 70 columns of different features relating to houses.\n",
    "\n",
    "I'll be using: train-test split, cross-validation, and data with unknown values for the target to simulate the modeling process\n",
    "\n",
    "The results of testing the model will be submitted to [Kaggle](https://www.kaggle.com/c/dsi-us-11-project-2-regression-challenge)\n",
    "\n",
    "## Dataset\n",
    "\n",
    "There will be two datasets used. One to train the model and the other to test the model.\n",
    "\n",
    "They can be found [here](https://www.kaggle.com/c/dsi-us-11-project-2-regression-challenge/data).\n",
    "\n",
    "The description of the dataset can be found [here](http://jse.amstat.org/v19n3/decock/DataDocumentation.txt)"
   ]
  },
  {
   "cell_type": "markdown",
   "id": "65d182dd",
   "metadata": {},
   "source": [
    "## Libraries"
   ]
  },
  {
   "cell_type": "code",
   "execution_count": 26,
   "id": "1a4c9904",
   "metadata": {},
   "outputs": [],
   "source": [
    "import pandas as pd\n",
    "import numpy as np\n",
    "import matplotlib.pyplot as plt"
   ]
  },
  {
   "cell_type": "code",
   "execution_count": null,
   "id": "50ea1952",
   "metadata": {},
   "outputs": [],
   "source": []
  }
 ],
 "metadata": {
  "kernelspec": {
   "display_name": "Python 3 (ipykernel)",
   "language": "python",
   "name": "python3"
  },
  "language_info": {
   "codemirror_mode": {
    "name": "ipython",
    "version": 3
   },
   "file_extension": ".py",
   "mimetype": "text/x-python",
   "name": "python",
   "nbconvert_exporter": "python",
   "pygments_lexer": "ipython3",
   "version": "3.8.12"
  }
 },
 "nbformat": 4,
 "nbformat_minor": 5
}
