{
 "cells": [
  {
   "cell_type": "markdown",
   "id": "2986148a",
   "metadata": {},
   "source": [
    "# Part3 ML Recommender System"
   ]
  },
  {
   "cell_type": "code",
   "execution_count": 1,
   "id": "dc644bd3",
   "metadata": {},
   "outputs": [],
   "source": [
    "import pandas as pd\n",
    "from sklearn.cluster import KMeans\n",
    "from sklearn import neighbors\n",
    "from sklearn.model_selection import train_test_split\n",
    "from sklearn.preprocessing import MinMaxScaler"
   ]
  },
  {
   "cell_type": "code",
   "execution_count": 2,
   "id": "c1b58e92",
   "metadata": {},
   "outputs": [
    {
     "data": {
      "text/html": [
       "<div>\n",
       "<style scoped>\n",
       "    .dataframe tbody tr th:only-of-type {\n",
       "        vertical-align: middle;\n",
       "    }\n",
       "\n",
       "    .dataframe tbody tr th {\n",
       "        vertical-align: top;\n",
       "    }\n",
       "\n",
       "    .dataframe thead th {\n",
       "        text-align: right;\n",
       "    }\n",
       "</style>\n",
       "<table border=\"1\" class=\"dataframe\">\n",
       "  <thead>\n",
       "    <tr style=\"text-align: right;\">\n",
       "      <th></th>\n",
       "      <th>author</th>\n",
       "      <th>avg_rating</th>\n",
       "      <th>genres</th>\n",
       "      <th>language</th>\n",
       "      <th>num_pages</th>\n",
       "      <th>num_ratings</th>\n",
       "      <th>num_reviews</th>\n",
       "      <th>title</th>\n",
       "      <th>url</th>\n",
       "    </tr>\n",
       "  </thead>\n",
       "  <tbody>\n",
       "    <tr>\n",
       "      <th>0</th>\n",
       "      <td>jon krakauer</td>\n",
       "      <td>4.00</td>\n",
       "      <td>environment travel survival biography memoir a...</td>\n",
       "      <td>English</td>\n",
       "      <td>215.0</td>\n",
       "      <td>983231.0</td>\n",
       "      <td>24367.0</td>\n",
       "      <td>Into the Wild</td>\n",
       "      <td>https://www.goodreads.com/book/show/1845.Into_...</td>\n",
       "    </tr>\n",
       "    <tr>\n",
       "      <th>1</th>\n",
       "      <td>bell hooks</td>\n",
       "      <td>4.14</td>\n",
       "      <td>social movement politic sociology race women s...</td>\n",
       "      <td>English</td>\n",
       "      <td>123.0</td>\n",
       "      <td>18885.0</td>\n",
       "      <td>1586.0</td>\n",
       "      <td>Feminism Is for Everybody: Passionate Politics</td>\n",
       "      <td>https://www.goodreads.com/book/show/168484.Fem...</td>\n",
       "    </tr>\n",
       "    <tr>\n",
       "      <th>2</th>\n",
       "      <td>mark bowden</td>\n",
       "      <td>4.28</td>\n",
       "      <td>war africa north american cultural politic mil...</td>\n",
       "      <td>English</td>\n",
       "      <td>386.0</td>\n",
       "      <td>59451.0</td>\n",
       "      <td>1727.0</td>\n",
       "      <td>Black Hawk Down: A Story of Modern War</td>\n",
       "      <td>https://www.goodreads.com/book/show/55403.Blac...</td>\n",
       "    </tr>\n",
       "  </tbody>\n",
       "</table>\n",
       "</div>"
      ],
      "text/plain": [
       "         author  avg_rating  \\\n",
       "0  jon krakauer        4.00   \n",
       "1    bell hooks        4.14   \n",
       "2   mark bowden        4.28   \n",
       "\n",
       "                                              genres language  num_pages  \\\n",
       "0  environment travel survival biography memoir a...  English      215.0   \n",
       "1  social movement politic sociology race women s...  English      123.0   \n",
       "2  war africa north american cultural politic mil...  English      386.0   \n",
       "\n",
       "   num_ratings  num_reviews                                           title  \\\n",
       "0     983231.0      24367.0                                   Into the Wild   \n",
       "1      18885.0       1586.0  Feminism Is for Everybody: Passionate Politics   \n",
       "2      59451.0       1727.0          Black Hawk Down: A Story of Modern War   \n",
       "\n",
       "                                                 url  \n",
       "0  https://www.goodreads.com/book/show/1845.Into_...  \n",
       "1  https://www.goodreads.com/book/show/168484.Fem...  \n",
       "2  https://www.goodreads.com/book/show/55403.Blac...  "
      ]
     },
     "execution_count": 2,
     "metadata": {},
     "output_type": "execute_result"
    }
   ],
   "source": [
    "df = pd.read_csv(\"./cleaned_datasets/books_clean.csv\")\n",
    "df.shape\n",
    "df.head(3)"
   ]
  },
  {
   "cell_type": "markdown",
   "id": "57ef8fa0",
   "metadata": {},
   "source": [
    "## Preprocessing\n",
    "We first try and create some features to train a model"
   ]
  },
  {
   "cell_type": "code",
   "execution_count": 3,
   "id": "6d8fe0c9",
   "metadata": {},
   "outputs": [],
   "source": [
    "# Feature 1: Group the ratings\n",
    "ratings = ['very low','low','neutral','high','very high']\n",
    "\n",
    "df['avg_rating'] = df['avg_rating'].apply(lambda x: ratings[0] if x<=1\n",
    "                                         else (ratings[1] if (x <=2) & (x>1)\n",
    "                                              else (ratings[2] if (x<=3) & (x>2)\n",
    "                                                   else (ratings[3] if (x<=4) & (x>3)\n",
    "                                                        else ratings[4]))))"
   ]
  },
  {
   "cell_type": "code",
   "execution_count": 4,
   "id": "f8379f88",
   "metadata": {},
   "outputs": [],
   "source": [
    "# Feature 2: Group the languages\n",
    "languages = ['English','German','Spanish','French','Dutch']\n",
    "\n",
    "df['language'] = df['language'].apply(lambda x: 'others' if x not in languages else x)"
   ]
  },
  {
   "cell_type": "code",
   "execution_count": 5,
   "id": "e56eb445",
   "metadata": {},
   "outputs": [],
   "source": [
    "# Feature 3: Group average number of reviews and ratings"
   ]
  },
  {
   "cell_type": "code",
   "execution_count": null,
   "id": "8e924828",
   "metadata": {},
   "outputs": [],
   "source": []
  },
  {
   "cell_type": "markdown",
   "id": "4bfc73ee",
   "metadata": {},
   "source": [
    "# Using minmaxscaler and ball tree nearest neighbors classifier\n",
    "- avg rating\n",
    "- language\n",
    "- num_reviews\n",
    "- and \n",
    "- num_pages\n",
    "\n",
    "**Variables has been renamed**"
   ]
  },
  {
   "cell_type": "markdown",
   "id": "32008e36",
   "metadata": {},
   "source": [
    "# https://thecleverprogrammer.com/2021/01/17/book-recommendation-system/"
   ]
  },
  {
   "cell_type": "code",
   "execution_count": 6,
   "id": "5568d65e",
   "metadata": {},
   "outputs": [],
   "source": [
    "#One hot encode\n",
    "rating_df = pd.get_dummies(df['avg_rating'])\n",
    "language_df = pd.get_dummies(df['language'])"
   ]
  },
  {
   "cell_type": "code",
   "execution_count": 7,
   "id": "5916b3f8",
   "metadata": {},
   "outputs": [],
   "source": [
    "features = pd.concat([rating_df, \n",
    "                      language_df, \n",
    "                      df['num_reviews'], \n",
    "                      df['num_pages']], axis=1)"
   ]
  },
  {
   "cell_type": "code",
   "execution_count": 8,
   "id": "2fcf6a6a",
   "metadata": {
    "scrolled": true
   },
   "outputs": [],
   "source": [
    "mms = MinMaxScaler()\n",
    "features = mms.fit_transform(features)"
   ]
  },
  {
   "cell_type": "code",
   "execution_count": 9,
   "id": "efdc9f85",
   "metadata": {},
   "outputs": [],
   "source": [
    "ball_tree = neighbors.NearestNeighbors(n_neighbors=6, algorithm='ball_tree')"
   ]
  },
  {
   "cell_type": "code",
   "execution_count": 10,
   "id": "85eef844",
   "metadata": {},
   "outputs": [
    {
     "data": {
      "text/plain": [
       "NearestNeighbors(algorithm='ball_tree', n_neighbors=6)"
      ]
     },
     "execution_count": 10,
     "metadata": {},
     "output_type": "execute_result"
    }
   ],
   "source": [
    "ball_tree.fit(features)"
   ]
  },
  {
   "cell_type": "code",
   "execution_count": 11,
   "id": "ef611744",
   "metadata": {},
   "outputs": [],
   "source": [
    "dist,id_list = ball_tree.kneighbors(features)"
   ]
  },
  {
   "cell_type": "code",
   "execution_count": 12,
   "id": "9a4d249f",
   "metadata": {},
   "outputs": [],
   "source": [
    "def ball_tree_recommender(book,df,id_list,col='title'):\n",
    "    '''\n",
    "    book = title of the book user would use to search for recommendation\n",
    "    df = original dataframe used to train the model\n",
    "    idlist = list of ids of titles generated from the model\n",
    "    col = column name of the book's titles in the dataframe used\n",
    "    '''\n",
    "    i = df[df[col] == book].index[0]\n",
    "    return [df.loc[x][col] for x in id_list[i]]"
   ]
  },
  {
   "cell_type": "code",
   "execution_count": 13,
   "id": "b7f7fe1e",
   "metadata": {
    "scrolled": true
   },
   "outputs": [
    {
     "data": {
      "text/plain": [
       "['Becoming',\n",
       " 'Cinder',\n",
       " 'Water for Elephants',\n",
       " 'The Maze Runner',\n",
       " 'The Cruel Prince',\n",
       " 'A Thousand Splendid Suns']"
      ]
     },
     "execution_count": 13,
     "metadata": {},
     "output_type": "execute_result"
    }
   ],
   "source": [
    "recommendations = ball_tree_recommender(\"Becoming\",df=df,id_list=id_list)\n",
    "recommendations"
   ]
  },
  {
   "cell_type": "markdown",
   "id": "7f41d8d7",
   "metadata": {},
   "source": [
    "# This is sample to get URL to show book image !"
   ]
  },
  {
   "cell_type": "code",
   "execution_count": null,
   "id": "f35f0543",
   "metadata": {},
   "outputs": [],
   "source": [
    "#Recommending top 5 similar books\n",
    "\n",
    "def recommendations(title):\n",
    "    \n",
    "    # finding cosine similarity for the vectors\n",
    "\n",
    "    cosine_similarities = cosine_similarity(tfidf_vectors,  tfidf_vectors)\n",
    "    \n",
    "    # taking the title and book image link and store in new data frame called books\n",
    "    books = df[['title', 'image_link']]\n",
    "    #Reverse mapping of the index\n",
    "    indices = pd.Series(df.index, index = df['title']).drop_duplicates()\n",
    "         \n",
    "    idx = indices[title]\n",
    "    sim_scores = list(enumerate(cosine_similarities[idx]))\n",
    "    sim_scores = sorted(sim_scores, key = lambda x: x[1], reverse = True)\n",
    "    sim_scores = sim_scores[1:6]\n",
    "    book_indices = [i[0] for i in sim_scores]\n",
    "    recommend = books.iloc[book_indices]\n",
    "    for index, row in recommend.iterrows():\n",
    "\n",
    "        response = requests.get(row['image_link'])\n",
    "        img = Image.open(BytesIO(response.content))\n",
    "        plt.figure()\n",
    "        plt.imshow(img)\n",
    "        plt.title(row['title'])"
   ]
  },
  {
   "cell_type": "markdown",
   "id": "65d714be",
   "metadata": {},
   "source": [
    "# Not Enough Ram to run this!"
   ]
  },
  {
   "cell_type": "markdown",
   "id": "110f5a86",
   "metadata": {},
   "source": [
    "# https://analyticsindiamag.com/how-to-build-a-content-based-movie-recommendation-system-in-python/"
   ]
  },
  {
   "cell_type": "markdown",
   "id": "8afa64b7",
   "metadata": {},
   "source": [
    "Now we will transform the overview column in the vector form so that we can compute similarity. Use the below code to convert it.  We have used TFidfVectorizer for the same. "
   ]
  },
  {
   "cell_type": "code",
   "execution_count": 18,
   "id": "8c0ff51c",
   "metadata": {},
   "outputs": [],
   "source": [
    "from sklearn.feature_extraction.text import TfidfVectorizer"
   ]
  },
  {
   "cell_type": "code",
   "execution_count": 19,
   "id": "ffc56a36",
   "metadata": {},
   "outputs": [],
   "source": [
    "tf = TfidfVectorizer(analyzer='word', ngram_range=(1, 2), min_df=0, stop_words = 'english')\n",
    "\n",
    "matrix = tf.fit_transform(df['genres'])"
   ]
  },
  {
   "cell_type": "markdown",
   "id": "6b9c543c",
   "metadata": {},
   "source": [
    "Now we are ready to compute cosine similarity \n",
    "to check what all movies are of the same content \n",
    "on the basis of the overview column that was present in the data set.  "
   ]
  },
  {
   "cell_type": "code",
   "execution_count": 20,
   "id": "c1109774",
   "metadata": {},
   "outputs": [],
   "source": [
    "#from sklearn.metrics.pairwise import linear_kernel\n",
    "from sklearn.metrics.pairwise import pairwise_distances, cosine_distances, cosine_similarity"
   ]
  },
  {
   "cell_type": "code",
   "execution_count": null,
   "id": "c597a161",
   "metadata": {},
   "outputs": [],
   "source": [
    "#cosine_similarities = linear_kernel(matrix,matrix)\n",
    "cosine_similarities = cosine_similarity(matrix,matrix)"
   ]
  },
  {
   "cell_type": "markdown",
   "id": "9b25d95e",
   "metadata": {},
   "source": [
    "After this, we will reset the index with the movie name that is the original title and will define a function for the recommendation that will search for similar movies by checking cosine similarities and will return us."
   ]
  },
  {
   "cell_type": "code",
   "execution_count": null,
   "id": "2f2a0cb7",
   "metadata": {},
   "outputs": [],
   "source": [
    "movie_title = df['title']\n",
    "\n",
    "indices = pd.Series(df.index, index=df['title'])\n",
    "\n",
    "def movie_recommend(original_title):\n",
    "\n",
    "    idx = indices[original_title]\n",
    "\n",
    "    sim_scores = list(enumerate(cosine_similarities[idx]))\n",
    "\n",
    "    sim_scores = sorted(sim_scores, key=lambda x: x[1], reverse=True)\n",
    "\n",
    "    sim_scores = sim_scores[1:31]\n",
    "\n",
    "    movie_indices = [i[0] for i in sim_scores]\n",
    "\n",
    "    return movie_title.iloc[movie_indices]"
   ]
  },
  {
   "cell_type": "markdown",
   "id": "d5b4c882",
   "metadata": {},
   "source": [
    "Now we will compute top 10 recommendations for 3 different movies and check the results. Use the below code to the same. "
   ]
  },
  {
   "cell_type": "code",
   "execution_count": null,
   "id": "de5769f7",
   "metadata": {},
   "outputs": [],
   "source": [
    "movie_recommend('Feminism Is for Everybody: Passionate Politics')"
   ]
  }
 ],
 "metadata": {
  "kernelspec": {
   "display_name": "Python 3 (ipykernel)",
   "language": "python",
   "name": "python3"
  },
  "language_info": {
   "codemirror_mode": {
    "name": "ipython",
    "version": 3
   },
   "file_extension": ".py",
   "mimetype": "text/x-python",
   "name": "python",
   "nbconvert_exporter": "python",
   "pygments_lexer": "ipython3",
   "version": "3.8.12"
  }
 },
 "nbformat": 4,
 "nbformat_minor": 5
}
