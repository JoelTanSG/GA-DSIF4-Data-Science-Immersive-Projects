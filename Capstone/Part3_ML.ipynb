{
 "cells": [
  {
   "cell_type": "markdown",
   "id": "2986148a",
   "metadata": {},
   "source": [
    "# Part3 ML Recommender System"
   ]
  },
  {
   "cell_type": "code",
   "execution_count": 13,
   "id": "dc644bd3",
   "metadata": {},
   "outputs": [],
   "source": [
    "import pandas as pd\n",
    "import numpy as np\n",
    "import pickle\n",
    "import self_created_functions as scf"
   ]
  },
  {
   "cell_type": "code",
   "execution_count": 14,
   "id": "c1b58e92",
   "metadata": {},
   "outputs": [
    {
     "data": {
      "text/html": [
       "<div>\n",
       "<style scoped>\n",
       "    .dataframe tbody tr th:only-of-type {\n",
       "        vertical-align: middle;\n",
       "    }\n",
       "\n",
       "    .dataframe tbody tr th {\n",
       "        vertical-align: top;\n",
       "    }\n",
       "\n",
       "    .dataframe thead th {\n",
       "        text-align: right;\n",
       "    }\n",
       "</style>\n",
       "<table border=\"1\" class=\"dataframe\">\n",
       "  <thead>\n",
       "    <tr style=\"text-align: right;\">\n",
       "      <th></th>\n",
       "      <th>author</th>\n",
       "      <th>avg_rating</th>\n",
       "      <th>genres</th>\n",
       "      <th>language</th>\n",
       "      <th>num_pages</th>\n",
       "      <th>num_ratings</th>\n",
       "      <th>num_reviews</th>\n",
       "      <th>title</th>\n",
       "      <th>url</th>\n",
       "    </tr>\n",
       "  </thead>\n",
       "  <tbody>\n",
       "    <tr>\n",
       "      <th>0</th>\n",
       "      <td>jon krakauer</td>\n",
       "      <td>4.00</td>\n",
       "      <td>environment travel survival biography memoir a...</td>\n",
       "      <td>English</td>\n",
       "      <td>215.0</td>\n",
       "      <td>983231.0</td>\n",
       "      <td>24367.0</td>\n",
       "      <td>Into the Wild</td>\n",
       "      <td>https://www.goodreads.com/book/show/1845.Into_...</td>\n",
       "    </tr>\n",
       "    <tr>\n",
       "      <th>1</th>\n",
       "      <td>bell hooks</td>\n",
       "      <td>4.14</td>\n",
       "      <td>social movement politic sociology race women s...</td>\n",
       "      <td>English</td>\n",
       "      <td>123.0</td>\n",
       "      <td>18885.0</td>\n",
       "      <td>1586.0</td>\n",
       "      <td>Feminism Is for Everybody: Passionate Politics</td>\n",
       "      <td>https://www.goodreads.com/book/show/168484.Fem...</td>\n",
       "    </tr>\n",
       "    <tr>\n",
       "      <th>2</th>\n",
       "      <td>mark bowden</td>\n",
       "      <td>4.28</td>\n",
       "      <td>war africa north american cultural politic mil...</td>\n",
       "      <td>English</td>\n",
       "      <td>386.0</td>\n",
       "      <td>59451.0</td>\n",
       "      <td>1727.0</td>\n",
       "      <td>Black Hawk Down: A Story of Modern War</td>\n",
       "      <td>https://www.goodreads.com/book/show/55403.Blac...</td>\n",
       "    </tr>\n",
       "  </tbody>\n",
       "</table>\n",
       "</div>"
      ],
      "text/plain": [
       "         author  avg_rating  \\\n",
       "0  jon krakauer        4.00   \n",
       "1    bell hooks        4.14   \n",
       "2   mark bowden        4.28   \n",
       "\n",
       "                                              genres language  num_pages  \\\n",
       "0  environment travel survival biography memoir a...  English      215.0   \n",
       "1  social movement politic sociology race women s...  English      123.0   \n",
       "2  war africa north american cultural politic mil...  English      386.0   \n",
       "\n",
       "   num_ratings  num_reviews                                           title  \\\n",
       "0     983231.0      24367.0                                   Into the Wild   \n",
       "1      18885.0       1586.0  Feminism Is for Everybody: Passionate Politics   \n",
       "2      59451.0       1727.0          Black Hawk Down: A Story of Modern War   \n",
       "\n",
       "                                                 url  \n",
       "0  https://www.goodreads.com/book/show/1845.Into_...  \n",
       "1  https://www.goodreads.com/book/show/168484.Fem...  \n",
       "2  https://www.goodreads.com/book/show/55403.Blac...  "
      ]
     },
     "execution_count": 14,
     "metadata": {},
     "output_type": "execute_result"
    }
   ],
   "source": [
    "df = pd.read_csv(\"./cleaned_datasets/books_clean.csv\")\n",
    "df.shape\n",
    "df.head(3)"
   ]
  },
  {
   "cell_type": "markdown",
   "id": "4bfc73ee",
   "metadata": {},
   "source": [
    "## Using minmaxscaler and ball tree nearest neighbors classifier\n",
    "- avg rating\n",
    "- language\n",
    "- num_reviews\n",
    "- num_pages\n",
    "\n",
    "Balltree algorithm has the ability to calculate distance between variables (neighbors) even with various distance metrics. Allowing us to calculate both euclidian and haversine distance."
   ]
  },
  {
   "cell_type": "code",
   "execution_count": 15,
   "id": "6d8fe0c9",
   "metadata": {},
   "outputs": [],
   "source": [
    "# Preprocessing\n",
    "\n",
    "# Standardize title\n",
    "df['title'] = df['title'].apply(lambda x: x.title())\n",
    "\n",
    "# Feature 1: Group the ratings\n",
    "ratings = ['very low','low','neutral','high','very high']\n",
    "\n",
    "df['avg_rating'] = df['avg_rating'].apply(lambda x: ratings[0] if x<=1\n",
    "                                         else (ratings[1] if (x <=2) & (x>1)\n",
    "                                              else (ratings[2] if (x<=3) & (x>2)\n",
    "                                                   else (ratings[3] if (x<=4) & (x>3)\n",
    "                                                        else ratings[4]))))\n",
    "\n",
    "# Feature 2: Group the languages\n",
    "languages = ['English','German','Spanish','French','Dutch']\n",
    "\n",
    "df['language'] = df['language'].apply(lambda x: 'others' if x not in languages else x)\n",
    "\n",
    "# One hot encode\n",
    "rating_df = pd.get_dummies(df['avg_rating'])\n",
    "language_df = pd.get_dummies(df['language'])"
   ]
  },
  {
   "cell_type": "code",
   "execution_count": 16,
   "id": "5916b3f8",
   "metadata": {},
   "outputs": [
    {
     "name": "stdout",
     "output_type": "stream",
     "text": [
      "Warning! This may take 10-30mins to train.\n",
      "Input \"Y\" to train model else any other letter to skip.\n",
      "n\n",
      "You've chosen not to train the model.\n"
     ]
    }
   ],
   "source": [
    "# Train the model (Recommender System)\n",
    "features_1 = pd.concat([rating_df, \n",
    "                      language_df, \n",
    "                      df['num_reviews'], \n",
    "                      df['num_pages']], axis=1)\n",
    "\n",
    "scf.train_ball_tree(features_1)"
   ]
  },
  {
   "cell_type": "code",
   "execution_count": 17,
   "id": "b7f7fe1e",
   "metadata": {
    "scrolled": true
   },
   "outputs": [
    {
     "name": "stdout",
     "output_type": "stream",
     "text": [
      "Book Recommendations:\n",
      "1 Six Of Crows\n",
      "  Author: Leigh Bardugo \n",
      "\n",
      "2 The Lightning Thief\n",
      "  Author: Rick Riordan \n",
      "\n",
      "3 The Girl With The Dragon Tattoo\n",
      "  Author: Stieg Larsson \n",
      "\n",
      "4 Wonder\n",
      "  Author: R J Palacio \n",
      "\n",
      "5 The Giver\n",
      "  Author: Lois Lowry \n",
      "\n"
     ]
    }
   ],
   "source": [
    "# Testing the recommender system\n",
    "model_1 = pickle.load(open(\"./models/ball_tree_1\",\"rb\"))\n",
    "recommendations = scf.ball_tree_recommender(\"Harry Potter And The Deathly Hallows\",df=df,id_list=model_1[1])"
   ]
  },
  {
   "cell_type": "markdown",
   "id": "08da2ef3",
   "metadata": {},
   "source": [
    "#### Trying using the dataframe of genre by itself\n",
    "Here using the same techniques above, we use a different feature: Genres to train the model\n",
    "Due to the lack of memory and ram we're unable to combine them both together."
   ]
  },
  {
   "cell_type": "code",
   "execution_count": 18,
   "id": "c59db4d5",
   "metadata": {},
   "outputs": [
    {
     "name": "stderr",
     "output_type": "stream",
     "text": [
      "/var/folders/1x/_l6x9fg16hxgmf1r3g0hhr3h0000gn/T/ipykernel_56531/1024293396.py:10: PerformanceWarning: DataFrame is highly fragmented.  This is usually the result of calling `frame.insert` many times, which has poor performance.  Consider joining all columns at once using pd.concat(axis=1) instead.  To get a de-fragmented frame, use `newframe = frame.copy()`\n",
      "  features_2[col] = features_2['genres'].apply(lambda x:1 if col in x else 0)\n"
     ]
    }
   ],
   "source": [
    "#Preprocessing\n",
    "\n",
    "#Drop duplicate texts in each cell\n",
    "df['genres'] = df['genres'].apply(lambda x: scf.remove_duplicate_text(x))\n",
    "\n",
    "#One Hot encode\n",
    "columns = list(set(\" \".join(x for x in df['genres']).split(\" \")))\n",
    "features_2 =df[['genres']].copy()\n",
    "for col in columns:\n",
    "    features_2[col] = features_2['genres'].apply(lambda x:1 if col in x else 0)\n",
    "features_2.drop(columns=['genres'],inplace=True)"
   ]
  },
  {
   "cell_type": "code",
   "execution_count": 19,
   "id": "e4503d53",
   "metadata": {
    "scrolled": true
   },
   "outputs": [
    {
     "name": "stdout",
     "output_type": "stream",
     "text": [
      "Warning! This may take 10-30mins to train.\n",
      "Input \"Y\" to train model else any other letter to skip.\n",
      "n\n",
      "You've chosen not to train the model.\n"
     ]
    }
   ],
   "source": [
    "# Training the 2nd model (Recommender System)\n",
    "scf.train_ball_tree(features_2)"
   ]
  },
  {
   "cell_type": "code",
   "execution_count": 20,
   "id": "4422501f",
   "metadata": {},
   "outputs": [
    {
     "name": "stdout",
     "output_type": "stream",
     "text": [
      "Book Recommendations:\n",
      "1 Harry Potter Ja Surma Vägised\n",
      "  Author: J K Rowling \n",
      "\n",
      "2 Harry Potter Series Box Set\n",
      "  Author: J K Rowling \n",
      "\n",
      "3 Harry Potter And The Goblet Of Fire\n",
      "  Author: J K Rowling \n",
      "\n",
      "4 Harry Potter And The Order Of The Phoenix\n",
      "  Author: J K Rowling \n",
      "\n",
      "5 Harry Potter And The Half-Blood Prince\n",
      "  Author: J K Rowling \n",
      "\n"
     ]
    }
   ],
   "source": [
    "# Testing the 2nd model\n",
    "model_2 = pickle.load(open(\"./models/ball_tree_2\",\"rb\"))\n",
    "recommendations_2 = scf.ball_tree_recommender(\"Harry Potter And The Deathly Hallows\",df=df,id_list=model_2[1])"
   ]
  },
  {
   "cell_type": "markdown",
   "id": "80a7501c",
   "metadata": {},
   "source": [
    "Using Genres seems to give better/ more relevant recommendations"
   ]
  },
  {
   "cell_type": "markdown",
   "id": "3118cb9d",
   "metadata": {},
   "source": [
    "## Using Sentence Transformer and Cosine Similarity"
   ]
  },
  {
   "cell_type": "code",
   "execution_count": 21,
   "id": "3bbdd3b5",
   "metadata": {},
   "outputs": [
    {
     "name": "stdout",
     "output_type": "stream",
     "text": [
      "Warning! This may take 1-2hours to generate.\n",
      "Input \"Y\" to run else any other letter to skip.\n",
      "n\n",
      "You've chosen not to generate the generator.\n"
     ]
    }
   ],
   "source": [
    "train_data = np.array(df.genres)\n",
    "\n",
    "scf.generating_cosine_similarity(train_data)"
   ]
  },
  {
   "cell_type": "code",
   "execution_count": 22,
   "id": "eafa4836",
   "metadata": {},
   "outputs": [
    {
     "name": "stdout",
     "output_type": "stream",
     "text": [
      "Book Recommendations:\n",
      "1 Harry Potter And The Goblet Of Fire\n",
      "  Author: J k rowling \n",
      "\n",
      "2 Harry Potter And The Half-Blood Prince\n",
      "  Author: J k rowling \n",
      "\n",
      "3 Harry Potter Series Box Set\n",
      "  Author: J k rowling \n",
      "\n",
      "4 Harry Potter And The Order Of The Phoenix\n",
      "  Author: J k rowling \n",
      "\n",
      "5 Harry Potter Ja Surma Vägised\n",
      "  Author: J k rowling \n",
      "\n"
     ]
    }
   ],
   "source": [
    "# Load cs model\n",
    "# Note cosine_similarity.pkl is 11GB in size, hence not uploaded to Github\n",
    "# Please run scf.generating_cosine_similarity to generate your own pickle file on your local machine\n",
    "cs_df= pd.read_pickle(\"./models/cosine_similarity.pkl\")\n",
    "\n",
    "# Testing cs model\n",
    "cs_recommendations = scf.cosine_similarity_recommender(\"Harry Potter and the Deathly Hallows\",df=df,cs_df=cs_df)"
   ]
  },
  {
   "cell_type": "markdown",
   "id": "3c0cbbd4",
   "metadata": {},
   "source": [
    "## Combining all three models to generate a set of unique recommendations"
   ]
  },
  {
   "cell_type": "code",
   "execution_count": 23,
   "id": "c54ef457",
   "metadata": {},
   "outputs": [
    {
     "name": "stdout",
     "output_type": "stream",
     "text": [
      "Model 1\n",
      "Book Recommendations:\n",
      "1 Six Of Crows\n",
      "  Author: Leigh Bardugo \n",
      "\n",
      "2 The Lightning Thief\n",
      "  Author: Rick Riordan \n",
      "\n",
      "3 The Girl With The Dragon Tattoo\n",
      "  Author: Stieg Larsson \n",
      "\n",
      "4 Wonder\n",
      "  Author: R J Palacio \n",
      "\n",
      "5 The Giver\n",
      "  Author: Lois Lowry \n",
      "\n",
      "Model 2\n",
      "Book Recommendations:\n",
      "1 Harry Potter Ja Surma Vägised\n",
      "  Author: J K Rowling \n",
      "\n",
      "2 Harry Potter Series Box Set\n",
      "  Author: J K Rowling \n",
      "\n",
      "3 Harry Potter And The Goblet Of Fire\n",
      "  Author: J K Rowling \n",
      "\n",
      "4 Harry Potter And The Order Of The Phoenix\n",
      "  Author: J K Rowling \n",
      "\n",
      "5 Harry Potter And The Half-Blood Prince\n",
      "  Author: J K Rowling \n",
      "\n",
      "Model 3\n",
      "Book Recommendations:\n",
      "1 Harry Potter And The Goblet Of Fire\n",
      "  Author: J k rowling \n",
      "\n",
      "2 Harry Potter And The Half-Blood Prince\n",
      "  Author: J k rowling \n",
      "\n",
      "3 Harry Potter Series Box Set\n",
      "  Author: J k rowling \n",
      "\n",
      "4 Harry Potter And The Order Of The Phoenix\n",
      "  Author: J k rowling \n",
      "\n",
      "5 Harry Potter Ja Surma Vägised\n",
      "  Author: J k rowling \n",
      "\n"
     ]
    },
    {
     "data": {
      "text/html": [
       "<div>\n",
       "<style scoped>\n",
       "    .dataframe tbody tr th:only-of-type {\n",
       "        vertical-align: middle;\n",
       "    }\n",
       "\n",
       "    .dataframe tbody tr th {\n",
       "        vertical-align: top;\n",
       "    }\n",
       "\n",
       "    .dataframe thead th {\n",
       "        text-align: right;\n",
       "    }\n",
       "</style>\n",
       "<table border=\"1\" class=\"dataframe\">\n",
       "  <thead>\n",
       "    <tr style=\"text-align: right;\">\n",
       "      <th></th>\n",
       "      <th>Recommendations</th>\n",
       "      <th>Author</th>\n",
       "    </tr>\n",
       "  </thead>\n",
       "  <tbody>\n",
       "    <tr>\n",
       "      <th>1</th>\n",
       "      <td>Six Of Crows</td>\n",
       "      <td>leigh bardugo</td>\n",
       "    </tr>\n",
       "    <tr>\n",
       "      <th>2</th>\n",
       "      <td>The Lightning Thief</td>\n",
       "      <td>rick riordan</td>\n",
       "    </tr>\n",
       "    <tr>\n",
       "      <th>3</th>\n",
       "      <td>The Girl With The Dragon Tattoo</td>\n",
       "      <td>stieg larsson</td>\n",
       "    </tr>\n",
       "    <tr>\n",
       "      <th>4</th>\n",
       "      <td>Wonder</td>\n",
       "      <td>r j palacio</td>\n",
       "    </tr>\n",
       "    <tr>\n",
       "      <th>5</th>\n",
       "      <td>The Giver</td>\n",
       "      <td>lois lowry</td>\n",
       "    </tr>\n",
       "    <tr>\n",
       "      <th>6</th>\n",
       "      <td>Harry Potter Ja Surma Vägised</td>\n",
       "      <td>j k rowling</td>\n",
       "    </tr>\n",
       "    <tr>\n",
       "      <th>7</th>\n",
       "      <td>Harry Potter Series Box Set</td>\n",
       "      <td>j k rowling</td>\n",
       "    </tr>\n",
       "    <tr>\n",
       "      <th>8</th>\n",
       "      <td>Harry Potter And The Goblet Of Fire</td>\n",
       "      <td>j k rowling</td>\n",
       "    </tr>\n",
       "    <tr>\n",
       "      <th>9</th>\n",
       "      <td>Harry Potter And The Order Of The Phoenix</td>\n",
       "      <td>j k rowling</td>\n",
       "    </tr>\n",
       "    <tr>\n",
       "      <th>10</th>\n",
       "      <td>Harry Potter And The Half-Blood Prince</td>\n",
       "      <td>j k rowling</td>\n",
       "    </tr>\n",
       "  </tbody>\n",
       "</table>\n",
       "</div>"
      ],
      "text/plain": [
       "                              Recommendations         Author\n",
       "1                                Six Of Crows  leigh bardugo\n",
       "2                         The Lightning Thief   rick riordan\n",
       "3             The Girl With The Dragon Tattoo  stieg larsson\n",
       "4                                      Wonder    r j palacio\n",
       "5                                   The Giver     lois lowry\n",
       "6               Harry Potter Ja Surma Vägised    j k rowling\n",
       "7                 Harry Potter Series Box Set    j k rowling\n",
       "8         Harry Potter And The Goblet Of Fire    j k rowling\n",
       "9   Harry Potter And The Order Of The Phoenix    j k rowling\n",
       "10     Harry Potter And The Half-Blood Prince    j k rowling"
      ]
     },
     "execution_count": 23,
     "metadata": {},
     "output_type": "execute_result"
    }
   ],
   "source": [
    "book_title = \"Harry Potter and the Deathly Hallows\"\n",
    "test = scf.combined_recommender(book_title=book_title,id_list1=model_1[1],id_list2=model_2[1],df=df,cs_df=cs_df)\n",
    "test"
   ]
  },
  {
   "cell_type": "markdown",
   "id": "44788e1c",
   "metadata": {},
   "source": [
    "# Conclusion\n",
    "\n",
    "I've created 3 recommender systems to recommend books in a cold start scenario using content base filtering. And then combining them together to get a unique list of books that is similiar by way of distance calculated using cosine similarity and a ball tree classifer.\n",
    "\n",
    "There is another way, using the multi-armed bandit method, where random books are recommended to the user to get the user feedback. And if the user rates a book positively, the recommender would then generate a new list of recommendations. However, due to time constraint, I shall not be exploring this method.\n",
    "\n",
    "One recurring issue I constantly face was the lack of memory/ram to run and test different models and ideas. This restricted my ability to run more test and visualise some graphs. One way to work around this would be to work in a cloud environment. But once again due to time constraint and financial reasons I did not take that step. But it would be a good way to further enchance the recommender system."
   ]
  },
  {
   "cell_type": "code",
   "execution_count": null,
   "id": "7b286d5b",
   "metadata": {},
   "outputs": [],
   "source": []
  }
 ],
 "metadata": {
  "kernelspec": {
   "display_name": "Python 3 (ipykernel)",
   "language": "python",
   "name": "python3"
  },
  "language_info": {
   "codemirror_mode": {
    "name": "ipython",
    "version": 3
   },
   "file_extension": ".py",
   "mimetype": "text/x-python",
   "name": "python",
   "nbconvert_exporter": "python",
   "pygments_lexer": "ipython3",
   "version": "3.8.12"
  }
 },
 "nbformat": 4,
 "nbformat_minor": 5
}
