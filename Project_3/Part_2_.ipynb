{
 "cells": [
  {
   "cell_type": "markdown",
   "id": "bd6da349",
   "metadata": {},
   "source": [
    "![](./assets/images/reddit_code_banner.png)\n",
    "[Image Source](https://preview.redd.it/k0ozkhhjubh31.jpg?width=2400&format=pjpg&auto=webp&s=6d44bf6a3a98bee16d1a70697b919fbd53a97796)"
   ]
  },
  {
   "cell_type": "markdown",
   "id": "87ea9f6f",
   "metadata": {},
   "source": [
    "# Part 2"
   ]
  },
  {
   "cell_type": "markdown",
   "id": "cd8bb1c3",
   "metadata": {},
   "source": [
    "## Table of Content\n",
    "\n",
    "1. [EDA](#EDA)\n",
    "2. [Preprocessing and Modeling](#Preprocessing-and-Modeling)\n",
    "3. [Evaluation and Conceptual Understanding](#Evaluation-and-Conceptual-Understanding)\n",
    "4. [Conclusion and Recommendations](#Conclusion-and-Recommendations)"
   ]
  },
  {
   "cell_type": "code",
   "execution_count": 1,
   "id": "516efb77",
   "metadata": {},
   "outputs": [],
   "source": [
    "#Libraries\n",
    "import pandas as pd\n",
    "import numpy as np\n",
    "import matplotlib.pyplot as plt\n",
    "import seaborn as sns\n",
    "import wordcloud as wc\n",
    "from nltk.corpus import stopwords"
   ]
  },
  {
   "cell_type": "markdown",
   "id": "e9a6bb77",
   "metadata": {},
   "source": [
    "# EDA\n",
    "Does the student address whether or not they are likely to be able to answer their problem statement with the provided data given what they've discovered during EDA?\n",
    "\n",
    "Are distributions examined and described?\n",
    "\n",
    "Are appropriate summary statistics provided?"
   ]
  },
  {
   "cell_type": "code",
   "execution_count": 4,
   "id": "c9bbdfc0",
   "metadata": {},
   "outputs": [
    {
     "name": "stdout",
     "output_type": "stream",
     "text": [
      "(2897, 7)\n"
     ]
    },
    {
     "data": {
      "text/html": [
       "<div>\n",
       "<style scoped>\n",
       "    .dataframe tbody tr th:only-of-type {\n",
       "        vertical-align: middle;\n",
       "    }\n",
       "\n",
       "    .dataframe tbody tr th {\n",
       "        vertical-align: top;\n",
       "    }\n",
       "\n",
       "    .dataframe thead th {\n",
       "        text-align: right;\n",
       "    }\n",
       "</style>\n",
       "<table border=\"1\" class=\"dataframe\">\n",
       "  <thead>\n",
       "    <tr style=\"text-align: right;\">\n",
       "      <th></th>\n",
       "      <th>removed_by_category</th>\n",
       "      <th>num_comments</th>\n",
       "      <th>over_18</th>\n",
       "      <th>selftext</th>\n",
       "      <th>title</th>\n",
       "      <th>media_embed</th>\n",
       "      <th>subreddit</th>\n",
       "    </tr>\n",
       "  </thead>\n",
       "  <tbody>\n",
       "    <tr>\n",
       "      <th>0</th>\n",
       "      <td>still_live</td>\n",
       "      <td>0</td>\n",
       "      <td>False</td>\n",
       "      <td>NaN</td>\n",
       "      <td>News WATCH 2 M sian Women Settle A Car Acciden...</td>\n",
       "      <td>0</td>\n",
       "      <td>malaysia</td>\n",
       "    </tr>\n",
       "    <tr>\n",
       "      <th>1</th>\n",
       "      <td>still_live</td>\n",
       "      <td>0</td>\n",
       "      <td>False</td>\n",
       "      <td>NaN</td>\n",
       "      <td>PRN Johor Cerita Dongeng Kluster Mahkamah Oleh...</td>\n",
       "      <td>1</td>\n",
       "      <td>malaysia</td>\n",
       "    </tr>\n",
       "    <tr>\n",
       "      <th>2</th>\n",
       "      <td>still_live</td>\n",
       "      <td>0</td>\n",
       "      <td>False</td>\n",
       "      <td>NaN</td>\n",
       "      <td>I clicked on an ad MP says of online shopping ...</td>\n",
       "      <td>0</td>\n",
       "      <td>malaysia</td>\n",
       "    </tr>\n",
       "  </tbody>\n",
       "</table>\n",
       "</div>"
      ],
      "text/plain": [
       "  removed_by_category  num_comments  over_18 selftext  \\\n",
       "0          still_live             0    False      NaN   \n",
       "1          still_live             0    False      NaN   \n",
       "2          still_live             0    False      NaN   \n",
       "\n",
       "                                               title  media_embed subreddit  \n",
       "0  News WATCH 2 M sian Women Settle A Car Acciden...            0  malaysia  \n",
       "1  PRN Johor Cerita Dongeng Kluster Mahkamah Oleh...            1  malaysia  \n",
       "2  I clicked on an ad MP says of online shopping ...            0  malaysia  "
      ]
     },
     "execution_count": 4,
     "metadata": {},
     "output_type": "execute_result"
    }
   ],
   "source": [
    "df = pd.read_csv('./assets/datasets/combined_dataset.csv')\n",
    "\n",
    "print(df.shape)\n",
    "df.head(3)"
   ]
  },
  {
   "cell_type": "markdown",
   "id": "01cc73e7",
   "metadata": {},
   "source": [
    "# Preprocessing and Modeling\n",
    "\n",
    "Is text data successfully converted to a matrix representation?\n",
    "\n",
    "Are methods such as stop words, stemming, and lemmatization explored?\n",
    "\n",
    "Does the student properly split and/or sample the data for validation/training purposes?\n",
    "\n",
    "Does the student test and evaluate a variety of models to identify a production algorithm (AT MINIMUM: Random Forest and one other model)?\n",
    "\n",
    "Does the student defend their choice of production model relevant to the data at hand and the problem?\n",
    "\n",
    "Does the student explain how the model works and evaluate its performance successes/downfalls?"
   ]
  },
  {
   "cell_type": "markdown",
   "id": "6c463c79",
   "metadata": {},
   "source": [
    "# Evaluation and Conceptual Understanding\n",
    "\n",
    "Does the student accurately identify and explain the baseline score?\n",
    "\n",
    "Does the student select and use metrics relevant to the problem objective?\n",
    "\n",
    "Does the student interpret the results of their model for purposes of inference?\n",
    "\n",
    "Is domain knowledge demonstrated when interpreting results?\n",
    "\n",
    "Does the student provide appropriate interpretation with regards to descriptive and inferential statistics?"
   ]
  },
  {
   "cell_type": "markdown",
   "id": "2568b6db",
   "metadata": {},
   "source": [
    "# Conclusion and Recommendations\n",
    "\n",
    "Does the student provide appropriate context to connect individual steps back to the overall project?\n",
    "\n",
    "Is it clear how the final recommendations were reached?\n",
    "\n",
    "Are the conclusions/recommendations clearly stated?\n",
    "\n",
    "Does the conclusion answer the original problem statement?\n",
    "\n",
    "Does the student address how findings of this research can be applied for the benefit of stakeholders?\n",
    "\n",
    "Are future steps to move the project forward identified?"
   ]
  }
 ],
 "metadata": {
  "kernelspec": {
   "display_name": "Python 3 (ipykernel)",
   "language": "python",
   "name": "python3"
  },
  "language_info": {
   "codemirror_mode": {
    "name": "ipython",
    "version": 3
   },
   "file_extension": ".py",
   "mimetype": "text/x-python",
   "name": "python",
   "nbconvert_exporter": "python",
   "pygments_lexer": "ipython3",
   "version": "3.8.12"
  }
 },
 "nbformat": 4,
 "nbformat_minor": 5
}
