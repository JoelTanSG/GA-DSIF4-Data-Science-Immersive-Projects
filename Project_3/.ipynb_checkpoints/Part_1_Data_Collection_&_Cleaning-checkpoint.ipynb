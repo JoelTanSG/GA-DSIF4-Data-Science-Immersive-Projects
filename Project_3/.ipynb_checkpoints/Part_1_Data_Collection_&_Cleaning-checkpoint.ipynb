{
 "cells": [
  {
   "cell_type": "markdown",
   "id": "bd6da349",
   "metadata": {},
   "source": [
    "![](./assets/images/reddit_code_banner.png)\n",
    "[Image Source](https://preview.redd.it/k0ozkhhjubh31.jpg?width=2400&format=pjpg&auto=webp&s=6d44bf6a3a98bee16d1a70697b919fbd53a97796)"
   ]
  },
  {
   "cell_type": "markdown",
   "id": "cd8bb1c3",
   "metadata": {},
   "source": [
    "# Table of Content\n",
    "\n",
    "1. [Problem Statement](#Problem-Statement)\n",
    "2. [Data Collection](#Data-Collection)\n",
    "3. [Preprocessing and Modeling](#Preprocessing-and-Modeling)\n",
    "4. [Evaluation and Conceptual Understanding](#Evaluation-and-Conceptual-Understanding)\n",
    "5. [Conclusion and Recommendations](#Conclusion-and-Recommendations)\n",
    "\n",
    "\n",
    "\n",
    "\n",
    "\n",
    "\n",
    "\n",
    "\n"
   ]
  },
  {
   "cell_type": "code",
   "execution_count": 5,
   "id": "ccb5e125",
   "metadata": {},
   "outputs": [],
   "source": [
    "#Libraries\n",
    "\n",
    "import requests\n",
    "\n",
    "import pandas as pd\n",
    "import numpy as np\n",
    "import matplotlib.pyplot as plt\n",
    "import seaborn as sns"
   ]
  },
  {
   "cell_type": "markdown",
   "id": "bf07eb6c",
   "metadata": {},
   "source": [
    "From Requirements:\n",
    "\n",
    "python==3.6.4\n",
    "\n",
    "conda==4.4.10\n",
    "\n",
    "html5lib==1.0.1\n",
    "\n",
    "jupyter==1.0.0\n",
    "\n",
    "matplotlib==2.1.2\n",
    "\n",
    "numpy==1.14.0\n",
    "\n",
    "pandas==0.22.0\n",
    "\n",
    "requests==2.18.4\n",
    "\n",
    "scikit-learn==0.19.1\n",
    "\n",
    "seaborn==0.8.1\n"
   ]
  },
  {
   "cell_type": "markdown",
   "id": "7b9281e2",
   "metadata": {},
   "source": [
    "# Problem Statement\n",
    "\n",
    "Is it clear what the goal of the project is?\n",
    "\n",
    "What type of model will be developed?\n",
    "\n",
    "How will success be evaluated?\n",
    "\n",
    "Is the scope of the project appropriate?\n",
    "\n",
    "Is it clear who cares about this or why this is important to investigate?\n",
    "\n",
    "Does the student consider the audience and the primary and secondary stakeholders?\n",
    "\n",
    "Data Scientist for a company looking to expand into Singapore and Malaysia. Tasked by the marketing department to look at reddit to see what are the hot topics of the day for both countries and if the citizens of these two countries have enough similiarities so that the marketing department would only need to create a single strategy. Or if they're starkly different, what are the difference so that the company would be better able to target the each country's populance.\n",
    "\n",
    "I'll be webscrapping, eda, knives, drecisiontree, logisticReg..."
   ]
  },
  {
   "cell_type": "markdown",
   "id": "3c430f05",
   "metadata": {},
   "source": [
    "# Data Collection\n",
    "\n",
    "Was enough data gathered to generate a significant result?\n",
    "\n",
    "Was data collected that was useful and relevant to the project?\n",
    "\n",
    "Was data collection and storage optimized through custom functions, pipelines, and/or automation?\n",
    "\n",
    "Was thought given to the server receiving the requests such as considering number of requests per second?"
   ]
  },
  {
   "cell_type": "code",
   "execution_count": 2,
   "id": "cd4b9e3d",
   "metadata": {},
   "outputs": [],
   "source": [
    "url = 'https://api.pushshift.io/reddit/search/submission'"
   ]
  },
  {
   "cell_type": "code",
   "execution_count": 13,
   "id": "4cea4ccd",
   "metadata": {},
   "outputs": [],
   "source": [
    "#Function to get 2,000 post from reddit\n",
    "\n",
    "def webscrape_reddit(url,subreddit):\n",
    "    params = {\n",
    "        'subreddit':subreddit,\n",
    "        'size':100,\n",
    "        'before': before #check df['created_utc'] to get time/date\n",
    "    }\n",
    "    \n",
    "    res = requests.get(url,params)\n",
    "    data = res.json()\n",
    "    post = data['data']\n",
    "    before = post[99]['created_utc']"
   ]
  },
  {
   "cell_type": "code",
   "execution_count": 14,
   "id": "200ac263",
   "metadata": {},
   "outputs": [],
   "source": [
    "res = requests.get(url,params)"
   ]
  },
  {
   "cell_type": "code",
   "execution_count": 15,
   "id": "9c38f089",
   "metadata": {},
   "outputs": [
    {
     "data": {
      "text/plain": [
       "200"
      ]
     },
     "execution_count": 15,
     "metadata": {},
     "output_type": "execute_result"
    }
   ],
   "source": [
    "res.status_code"
   ]
  },
  {
   "cell_type": "code",
   "execution_count": 16,
   "id": "52678be6",
   "metadata": {},
   "outputs": [],
   "source": [
    "data = res.json()"
   ]
  },
  {
   "cell_type": "code",
   "execution_count": 1,
   "id": "f5b23b76",
   "metadata": {},
   "outputs": [
    {
     "ename": "NameError",
     "evalue": "name 'data' is not defined",
     "output_type": "error",
     "traceback": [
      "\u001b[0;31m---------------------------------------------------------------------------\u001b[0m",
      "\u001b[0;31mNameError\u001b[0m                                 Traceback (most recent call last)",
      "\u001b[0;32m/var/folders/1x/_l6x9fg16hxgmf1r3g0hhr3h0000gn/T/ipykernel_6902/672932332.py\u001b[0m in \u001b[0;36m<module>\u001b[0;34m\u001b[0m\n\u001b[0;32m----> 1\u001b[0;31m \u001b[0mpost\u001b[0m \u001b[0;34m=\u001b[0m \u001b[0mdata\u001b[0m\u001b[0;34m[\u001b[0m\u001b[0;34m'data'\u001b[0m\u001b[0;34m]\u001b[0m\u001b[0;34m\u001b[0m\u001b[0;34m\u001b[0m\u001b[0m\n\u001b[0m",
      "\u001b[0;31mNameError\u001b[0m: name 'data' is not defined"
     ]
    }
   ],
   "source": [
    "post = data['data']"
   ]
  },
  {
   "cell_type": "code",
   "execution_count": 29,
   "id": "c517d4b8",
   "metadata": {},
   "outputs": [
    {
     "data": {
      "text/plain": [
       "1644860343"
      ]
     },
     "execution_count": 29,
     "metadata": {},
     "output_type": "execute_result"
    }
   ],
   "source": [
    "post[99]['created_utc']"
   ]
  },
  {
   "cell_type": "code",
   "execution_count": 20,
   "id": "7a92f666",
   "metadata": {},
   "outputs": [],
   "source": [
    "df = pd.DataFrame(post)"
   ]
  },
  {
   "cell_type": "code",
   "execution_count": 24,
   "id": "a5296b2d",
   "metadata": {},
   "outputs": [
    {
     "data": {
      "text/html": [
       "<div>\n",
       "<style scoped>\n",
       "    .dataframe tbody tr th:only-of-type {\n",
       "        vertical-align: middle;\n",
       "    }\n",
       "\n",
       "    .dataframe tbody tr th {\n",
       "        vertical-align: top;\n",
       "    }\n",
       "\n",
       "    .dataframe thead th {\n",
       "        text-align: right;\n",
       "    }\n",
       "</style>\n",
       "<table border=\"1\" class=\"dataframe\">\n",
       "  <thead>\n",
       "    <tr style=\"text-align: right;\">\n",
       "      <th></th>\n",
       "      <th>subreddit</th>\n",
       "      <th>selftext</th>\n",
       "      <th>title</th>\n",
       "    </tr>\n",
       "  </thead>\n",
       "  <tbody>\n",
       "    <tr>\n",
       "      <th>95</th>\n",
       "      <td>singapore</td>\n",
       "      <td>[removed]</td>\n",
       "      <td>Dog and flight</td>\n",
       "    </tr>\n",
       "    <tr>\n",
       "      <th>96</th>\n",
       "      <td>singapore</td>\n",
       "      <td></td>\n",
       "      <td>COVID-19 restrictions can be eased once Omicro...</td>\n",
       "    </tr>\n",
       "    <tr>\n",
       "      <th>97</th>\n",
       "      <td>singapore</td>\n",
       "      <td>[removed]</td>\n",
       "      <td>possible to change from private to CDC?</td>\n",
       "    </tr>\n",
       "    <tr>\n",
       "      <th>98</th>\n",
       "      <td>singapore</td>\n",
       "      <td>[removed]</td>\n",
       "      <td>TIL combining two hdb flats by buying the comm...</td>\n",
       "    </tr>\n",
       "    <tr>\n",
       "      <th>99</th>\n",
       "      <td>singapore</td>\n",
       "      <td></td>\n",
       "      <td>Chengyu Wordle Is Not a Love Story</td>\n",
       "    </tr>\n",
       "  </tbody>\n",
       "</table>\n",
       "</div>"
      ],
      "text/plain": [
       "    subreddit   selftext                                              title\n",
       "95  singapore  [removed]                                     Dog and flight\n",
       "96  singapore             COVID-19 restrictions can be eased once Omicro...\n",
       "97  singapore  [removed]            possible to change from private to CDC?\n",
       "98  singapore  [removed]  TIL combining two hdb flats by buying the comm...\n",
       "99  singapore                            Chengyu Wordle Is Not a Love Story"
      ]
     },
     "execution_count": 24,
     "metadata": {},
     "output_type": "execute_result"
    }
   ],
   "source": [
    "df[['subreddit','selftext','title']].tail()"
   ]
  },
  {
   "cell_type": "markdown",
   "id": "ec35a5fb",
   "metadata": {},
   "source": [
    "# Data Cleaning and EDA\n",
    "\n",
    "Are missing values imputed/handled appropriately?\n",
    "\n",
    "Are distributions examined and described?\n",
    "\n",
    "Are outliers identified and addressed?\n",
    "\n",
    "Are appropriate summary statistics provided?\n",
    "\n",
    "Are steps taken during data cleaning and EDA framed appropriately?\n",
    "\n",
    "Does the student address whether or not they are likely to be able to answer their problem statement with the provided data given what they've discovered during EDA?"
   ]
  },
  {
   "cell_type": "markdown",
   "id": "d5b8d182",
   "metadata": {},
   "source": [
    "# Preprocessing and Modeling\n",
    "\n",
    "Is text data successfully converted to a matrix representation?\n",
    "\n",
    "Are methods such as stop words, stemming, and lemmatization explored?\n",
    "\n",
    "Does the student properly split and/or sample the data for validation/training purposes?\n",
    "\n",
    "Does the student test and evaluate a variety of models to identify a production algorithm (AT MINIMUM: Random Forest and one other model)?\n",
    "\n",
    "Does the student defend their choice of production model relevant to the data at hand and the problem?\n",
    "\n",
    "Does the student explain how the model works and evaluate its performance successes/downfalls?"
   ]
  },
  {
   "cell_type": "markdown",
   "id": "a6322a5f",
   "metadata": {},
   "source": [
    "# Evaluation and Conceptual Understanding\n",
    "\n",
    "Does the student accurately identify and explain the baseline score?\n",
    "\n",
    "Does the student select and use metrics relevant to the problem objective?\n",
    "\n",
    "Does the student interpret the results of their model for purposes of inference?\n",
    "\n",
    "Is domain knowledge demonstrated when interpreting results?\n",
    "\n",
    "Does the student provide appropriate interpretation with regards to descriptive and inferential statistics?"
   ]
  },
  {
   "cell_type": "markdown",
   "id": "f07151d3",
   "metadata": {},
   "source": [
    "# Conclusion and Recommendations\n",
    "\n",
    "Does the student provide appropriate context to connect individual steps back to the overall project?\n",
    "\n",
    "Is it clear how the final recommendations were reached?\n",
    "\n",
    "Are the conclusions/recommendations clearly stated?\n",
    "\n",
    "Does the conclusion answer the original problem statement?\n",
    "\n",
    "Does the student address how findings of this research can be applied for the benefit of stakeholders?\n",
    "\n",
    "Are future steps to move the project forward identified?"
   ]
  },
  {
   "cell_type": "code",
   "execution_count": null,
   "id": "251367d9",
   "metadata": {},
   "outputs": [],
   "source": []
  }
 ],
 "metadata": {
  "kernelspec": {
   "display_name": "Python 3 (ipykernel)",
   "language": "python",
   "name": "python3"
  },
  "language_info": {
   "codemirror_mode": {
    "name": "ipython",
    "version": 3
   },
   "file_extension": ".py",
   "mimetype": "text/x-python",
   "name": "python",
   "nbconvert_exporter": "python",
   "pygments_lexer": "ipython3",
   "version": "3.8.12"
  }
 },
 "nbformat": 4,
 "nbformat_minor": 5
}
