{
 "cells": [
  {
   "cell_type": "markdown",
   "id": "b36fbc36",
   "metadata": {},
   "source": [
    "![](./assets/images/reddit_code_banner.png)\n",
    "[Image Source](https://preview.redd.it/k0ozkhhjubh31.jpg?width=2400&format=pjpg&auto=webp&s=6d44bf6a3a98bee16d1a70697b919fbd53a97796)"
   ]
  },
  {
   "cell_type": "markdown",
   "id": "e67753f5",
   "metadata": {},
   "source": [
    "# Table of Content\n",
    "\n",
    "1. [Problem Statement](#Problem-Statement)\n",
    "2. [Data Collection](#Data-Collection)\n",
    "3. [Preprocessing and Modeling](#Preprocessing-and-Modeling)\n",
    "4. [Evaluation and Conceptual Understanding](#Evaluation-and-Conceptual-Understanding)\n",
    "5. [Conclusion and Recommendations](#Conclusion-and-Recommendations)\n",
    "\n",
    "\n",
    "\n",
    "\n",
    "\n",
    "\n",
    "\n",
    "\n"
   ]
  },
  {
   "cell_type": "markdown",
   "id": "8d542694",
   "metadata": {},
   "source": [
    "From Requirements:\n",
    "\n",
    "python==3.6.4\n",
    "\n",
    "conda==4.4.10\n",
    "\n",
    "html5lib==1.0.1\n",
    "\n",
    "jupyter==1.0.0\n",
    "\n",
    "matplotlib==2.1.2\n",
    "\n",
    "numpy==1.14.0\n",
    "\n",
    "pandas==0.22.0\n",
    "\n",
    "requests==2.18.4\n",
    "\n",
    "scikit-learn==0.19.1\n",
    "\n",
    "seaborn==0.8.1\n"
   ]
  },
  {
   "cell_type": "markdown",
   "id": "f7dcf30b",
   "metadata": {},
   "source": [
    "# Problem Statement\n",
    "\n",
    "Is it clear what the goal of the project is?\n",
    "What type of model will be developed?\n",
    "How will success be evaluated?\n",
    "Is the scope of the project appropriate?\n",
    "Is it clear who cares about this or why this is important to investigate?\n",
    "Does the student consider the audience and the primary and secondary stakeholders?"
   ]
  },
  {
   "cell_type": "markdown",
   "id": "2318fb84",
   "metadata": {},
   "source": [
    "# Data Collection\n",
    "\n",
    "Was enough data gathered to generate a significant result?\n",
    "Was data collected that was useful and relevant to the project?\n",
    "Was data collection and storage optimized through custom functions, pipelines, and/or automation?\n",
    "Was thought given to the server receiving the requests such as considering number of requests per second?"
   ]
  },
  {
   "cell_type": "markdown",
   "id": "f0a2b46a",
   "metadata": {},
   "source": [
    "# Data Cleaning and EDA\n",
    "\n",
    "Are missing values imputed/handled appropriately?\n",
    "Are distributions examined and described?\n",
    "Are outliers identified and addressed?\n",
    "Are appropriate summary statistics provided?\n",
    "Are steps taken during data cleaning and EDA framed appropriately?\n",
    "Does the student address whether or not they are likely to be able to answer their problem statement with the provided data given what they've discovered during EDA?"
   ]
  },
  {
   "cell_type": "markdown",
   "id": "fe3e403f",
   "metadata": {},
   "source": [
    "# Preprocessing and Modeling\n",
    "\n",
    "Is text data successfully converted to a matrix representation?\n",
    "Are methods such as stop words, stemming, and lemmatization explored?\n",
    "Does the student properly split and/or sample the data for validation/training purposes?\n",
    "Does the student test and evaluate a variety of models to identify a production algorithm (AT MINIMUM: Random Forest and one other model)?\n",
    "Does the student defend their choice of production model relevant to the data at hand and the problem?\n",
    "Does the student explain how the model works and evaluate its performance successes/downfalls?"
   ]
  },
  {
   "cell_type": "markdown",
   "id": "dd62656b",
   "metadata": {},
   "source": [
    "# Evaluation and Conceptual Understanding\n",
    "\n",
    "Does the student accurately identify and explain the baseline score?\n",
    "Does the student select and use metrics relevant to the problem objective?\n",
    "Does the student interpret the results of their model for purposes of inference?\n",
    "Is domain knowledge demonstrated when interpreting results?\n",
    "Does the student provide appropriate interpretation with regards to descriptive and inferential statistics?"
   ]
  },
  {
   "cell_type": "markdown",
   "id": "379a23ea",
   "metadata": {},
   "source": [
    "# Conclusion and Recommendations\n",
    "\n",
    "Does the student provide appropriate context to connect individual steps back to the overall project?\n",
    "Is it clear how the final recommendations were reached?\n",
    "Are the conclusions/recommendations clearly stated?\n",
    "Does the conclusion answer the original problem statement?\n",
    "Does the student address how findings of this research can be applied for the benefit of stakeholders?\n",
    "Are future steps to move the project forward identified?"
   ]
  },
  {
   "cell_type": "code",
   "execution_count": null,
   "id": "2c728eda",
   "metadata": {},
   "outputs": [],
   "source": []
  }
 ],
 "metadata": {
  "kernelspec": {
   "display_name": "Python 3 (ipykernel)",
   "language": "python",
   "name": "python3"
  },
  "language_info": {
   "codemirror_mode": {
    "name": "ipython",
    "version": 3
   },
   "file_extension": ".py",
   "mimetype": "text/x-python",
   "name": "python",
   "nbconvert_exporter": "python",
   "pygments_lexer": "ipython3",
   "version": "3.8.12"
  }
 },
 "nbformat": 4,
 "nbformat_minor": 5
}
